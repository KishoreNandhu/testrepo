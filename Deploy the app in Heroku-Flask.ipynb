{
  "metadata": {
    "kernelspec": {
      "name": "python",
      "display_name": "Pyolite",
      "language": "python"
    },
    "language_info": {
      "codemirror_mode": {
        "name": "python",
        "version": 3
      },
      "file_extension": ".py",
      "mimetype": "text/x-python",
      "name": "python",
      "nbconvert_exporter": "python",
      "pygments_lexer": "ipython3",
      "version": "3.8"
    }
  },
  "nbformat_minor": 5,
  "nbformat": 4,
  "cells": [
    {
      "cell_type": "markdown",
      "source": "# Deploy Your Flask App on Heroku",
      "metadata": {},
      "id": "272500fd"
    },
    {
      "cell_type": "raw",
      "source": "Heroku is a cloud application platform that allows you to run your apps, completely free of charge.",
      "metadata": {},
      "id": "5e80e1ed"
    },
    {
      "cell_type": "markdown",
      "source": "### Step1: Create the folder for the project and navigate to the directory",
      "metadata": {},
      "id": "4ef9ff53"
    },
    {
      "cell_type": "raw",
      "source": "cd\nmkdir flask_app_deployment\ncd flask_app_deployment",
      "metadata": {},
      "id": "e033941d"
    },
    {
      "cell_type": "markdown",
      "source": "### Step2: Install git using apt-get ",
      "metadata": {},
      "id": "5b9530a4"
    },
    {
      "cell_type": "raw",
      "source": "sudo apt-get install git",
      "metadata": {},
      "id": "03622c7c"
    },
    {
      "cell_type": "markdown",
      "source": "### Step3: Initialize the folder with an empty git repository ",
      "metadata": {},
      "id": "b0681de0"
    },
    {
      "cell_type": "raw",
      "source": "git init",
      "metadata": {},
      "id": "2a7d1a8d"
    },
    {
      "cell_type": "markdown",
      "source": "### Step4: Create the virtual env and activate the same",
      "metadata": {},
      "id": "c87db5e0"
    },
    {
      "cell_type": "raw",
      "source": "python3 -m venv dash_app\nsource dash_app/bin/activate",
      "metadata": {},
      "id": "880d2626"
    },
    {
      "cell_type": "markdown",
      "source": "### Step5: Then install Flask and gunicorn in the virtual environment",
      "metadata": {},
      "id": "4341c01d"
    },
    {
      "cell_type": "raw",
      "source": "pip install flask\npip install gunicorn",
      "metadata": {},
      "id": "2e18f822"
    },
    {
      "cell_type": "markdown",
      "source": "### Step6: Create requirements.txt file using pip freeze",
      "metadata": {},
      "id": "c5d1e629-ce19-4348-a6f9-e6dc0c569856"
    },
    {
      "cell_type": "code",
      "source": "pip freeze > > requirements.txt",
      "metadata": {},
      "execution_count": null,
      "outputs": [],
      "id": "2ec44bdd-17d5-4271-b89d-aca047cb123c"
    },
    {
      "cell_type": "markdown",
      "source": "### Step7: Then make sure to change the directory back to the repository",
      "metadata": {},
      "id": "d34e0706"
    },
    {
      "cell_type": "raw",
      "source": "cd ~/flask_app_deployment",
      "metadata": {},
      "id": "2cdbd584"
    },
    {
      "cell_type": "markdown",
      "source": "### Step8: Create simple flask app as app.py file in the current directory",
      "metadata": {},
      "id": "efd3e1dd"
    },
    {
      "cell_type": "raw",
      "source": "# cat app.py\nfrom flask import Flask\n\napp = Flask(__name__)\n\n@app.route(\"/\")\ndef index():\n    return \"Hello World!\"\n",
      "metadata": {},
      "id": "dba9c792"
    },
    {
      "cell_type": "markdown",
      "source": "### Step9: Create a file named Procfile in the project’s root directory. This file tells Heroku how to run the app",
      "metadata": {},
      "id": "950173c7-4484-457c-9bc5-1beafe69cb4b"
    },
    {
      "cell_type": "code",
      "source": "echo \"web: gunicorn app:app\" > Procfile",
      "metadata": {},
      "execution_count": null,
      "outputs": [],
      "id": "803f5a38-f366-4719-8d58-57bf6fbaebaf"
    },
    {
      "cell_type": "markdown",
      "source": "### Step10: Add the deployment files into the Heroku git repository",
      "metadata": {},
      "id": "98536753"
    },
    {
      "cell_type": "raw",
      "source": "git add app.py\ngit add Procfile\ngit add requirements.txt\ngit add .gitignore",
      "metadata": {},
      "id": "9e72a1e6"
    },
    {
      "cell_type": "raw",
      "source": "-> app.py is the file that contains our Flask appplication. That’s the file that you should be changing if you want to update/improve the app.\n-> requirements.txt contains the Python dependencies needed to run the app itself.\n-> .gitignore file is a plain text file where each line contains a pattern for files/directories to ignore\n-> Procfile Heroku apps include a Procfile that specifies the commands that are executed by the app on startup.",
      "metadata": {},
      "id": "5d4e7f52"
    },
    {
      "cell_type": "markdown",
      "source": "### Step11: You can now create the heroku app with the name you want for it. That name needs to be unique. It will let you know if the name is not available. Then, you can deploy your code to heroku.",
      "metadata": {},
      "id": "9853fd0e"
    },
    {
      "cell_type": "raw",
      "source": "heroku create flask-app-deployment-test",
      "metadata": {},
      "id": "f2ec2312"
    },
    {
      "cell_type": "markdown",
      "source": "### Step12: Push the files to Heroku master",
      "metadata": {},
      "id": "b3934ce5"
    },
    {
      "cell_type": "raw",
      "source": "ubuntu@ip-172-31-18-25:~/flask-app-deployment-test$ git push heroku master\n\n[master (root-commit) 6aeaaec] Adding the deployment files\n Committer: Ubuntu <ubuntu@ip-172-31-18-25.ap-south-1.compute.internal>\nYour name and email address were configured automatically based\non your username and hostname. Please check that they are accurate.\nYou can suppress this message by setting them explicitly. Run the\nfollowing command and follow the instructions in your editor to edit\nyour configuration file:\n\n    git config --global --edit\n\nAfter doing this, you may fix the identity used for this commit with:\n\n    git commit --amend --reset-author\n\n 4 files changed, 57 insertions(+)\n create mode 100644 .gitignore\n create mode 100644 Procfile\n create mode 100644 app.py\n create mode 100644 requirements.txt\n",
      "metadata": {},
      "id": "a75295f0"
    },
    {
      "cell_type": "markdown",
      "source": "### Step13: Run the app",
      "metadata": {},
      "id": "0f956c23"
    },
    {
      "cell_type": "markdown",
      "source": "Finally, run the app on one dyno by doing $ heroku ps:scale web=1. Dynos are “containers” for running apps/code. Assuming you want to keep everything free, you are allowed 2 running dynos, each with 512MB of RAM.",
      "metadata": {},
      "id": "faefc3c9"
    },
    {
      "cell_type": "raw",
      "source": "heroku ps:scale web=1",
      "metadata": {},
      "id": "8afd297f"
    },
    {
      "cell_type": "markdown",
      "source": "### Step14: Open the browser and access the application",
      "metadata": {},
      "id": "d9356b56"
    },
    {
      "cell_type": "raw",
      "source": "Our dash app will be accessible on https://flask-app-deployment-test.herokuapp.com/\n    Basically, it will be https://name-of-your-app.herokuapp.com.",
      "metadata": {},
      "id": "2cdf1614"
    }
  ]
}